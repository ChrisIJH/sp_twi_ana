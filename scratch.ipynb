{
 "cells": [
  {
   "cell_type": "code",
   "execution_count": 1,
   "metadata": {
    "collapsed": true
   },
   "outputs": [],
   "source": [
    "import numpy as np\n",
    "import pandas as pd"
   ]
  },
  {
   "cell_type": "code",
   "execution_count": 36,
   "metadata": {
    "collapsed": false
   },
   "outputs": [],
   "source": [
    "sp = pd.read_table('100sp', header=None)"
   ]
  },
  {
   "cell_type": "code",
   "execution_count": 37,
   "metadata": {
    "collapsed": false
   },
   "outputs": [
    {
     "data": {
      "text/html": [
       "<div style=\"max-height:1000px;max-width:1500px;overflow:auto;\">\n",
       "<table border=\"1\" class=\"dataframe\">\n",
       "  <thead>\n",
       "    <tr style=\"text-align: right;\">\n",
       "      <th></th>\n",
       "      <th>0</th>\n",
       "      <th>1</th>\n",
       "    </tr>\n",
       "  </thead>\n",
       "  <tbody>\n",
       "    <tr>\n",
       "      <th>0</th>\n",
       "      <td> AAPL</td>\n",
       "      <td>                        Apple Inc.</td>\n",
       "    </tr>\n",
       "    <tr>\n",
       "      <th>1</th>\n",
       "      <td> ABBV</td>\n",
       "      <td>                       AbbVie Inc.</td>\n",
       "    </tr>\n",
       "    <tr>\n",
       "      <th>2</th>\n",
       "      <td>  ABT</td>\n",
       "      <td>               Abbott Laboratories</td>\n",
       "    </tr>\n",
       "    <tr>\n",
       "      <th>3</th>\n",
       "      <td>  ACN</td>\n",
       "      <td>                     Accenture plc</td>\n",
       "    </tr>\n",
       "    <tr>\n",
       "      <th>4</th>\n",
       "      <td>  AIG</td>\n",
       "      <td> American International Group Inc.</td>\n",
       "    </tr>\n",
       "  </tbody>\n",
       "</table>\n",
       "</div>"
      ],
      "text/plain": [
       "      0                                  1\n",
       "0  AAPL                         Apple Inc.\n",
       "1  ABBV                        AbbVie Inc.\n",
       "2   ABT                Abbott Laboratories\n",
       "3   ACN                      Accenture plc\n",
       "4   AIG  American International Group Inc."
      ]
     },
     "execution_count": 37,
     "metadata": {},
     "output_type": "execute_result"
    }
   ],
   "source": [
    "sp.head()"
   ]
  },
  {
   "cell_type": "code",
   "execution_count": 38,
   "metadata": {
    "collapsed": false
   },
   "outputs": [
    {
     "data": {
      "text/plain": [
       "0     AAPL\n",
       "1     ABBV\n",
       "2      ABT\n",
       "3      ACN\n",
       "4      AIG\n",
       "5      ALL\n",
       "6     AMGN\n",
       "7     AMZN\n",
       "8      APA\n",
       "9      APC\n",
       "10     AXP\n",
       "11      BA\n",
       "12     BAC\n",
       "13     BAX\n",
       "14    BIIB\n",
       "...\n",
       "85      T\n",
       "86    TGT\n",
       "87    TWX\n",
       "88    TXN\n",
       "89    UNH\n",
       "90    UNP\n",
       "91    UPS\n",
       "92    USB\n",
       "93    UTX\n",
       "94      V\n",
       "95     VZ\n",
       "96    WBA\n",
       "97    WFC\n",
       "98    WMT\n",
       "99    XOM\n",
       "Name: 0, Length: 100, dtype: object"
      ]
     },
     "execution_count": 38,
     "metadata": {},
     "output_type": "execute_result"
    }
   ],
   "source": [
    "sp[0]"
   ]
  },
  {
   "cell_type": "code",
   "execution_count": 13,
   "metadata": {
    "collapsed": true
   },
   "outputs": [],
   "source": [
    "tmp = 'abc, edb'"
   ]
  },
  {
   "cell_type": "code",
   "execution_count": 14,
   "metadata": {
    "collapsed": false
   },
   "outputs": [
    {
     "data": {
      "text/plain": [
       "'abc, edb'"
      ]
     },
     "execution_count": 14,
     "metadata": {},
     "output_type": "execute_result"
    }
   ],
   "source": [
    "tmp"
   ]
  },
  {
   "cell_type": "code",
   "execution_count": 15,
   "metadata": {
    "collapsed": false
   },
   "outputs": [
    {
     "data": {
      "text/plain": [
       "str"
      ]
     },
     "execution_count": 15,
     "metadata": {},
     "output_type": "execute_result"
    }
   ],
   "source": [
    "type(tmp)"
   ]
  },
  {
   "cell_type": "code",
   "execution_count": 16,
   "metadata": {
    "collapsed": true
   },
   "outputs": [],
   "source": [
    "tmp = tmp + ', ' + 'ddd'"
   ]
  },
  {
   "cell_type": "code",
   "execution_count": 17,
   "metadata": {
    "collapsed": false
   },
   "outputs": [
    {
     "data": {
      "text/plain": [
       "'abc, edb, ddd'"
      ]
     },
     "execution_count": 17,
     "metadata": {},
     "output_type": "execute_result"
    }
   ],
   "source": [
    "tmp"
   ]
  },
  {
   "cell_type": "code",
   "execution_count": 18,
   "metadata": {
    "collapsed": true
   },
   "outputs": [],
   "source": [
    "tmp = ''"
   ]
  },
  {
   "cell_type": "code",
   "execution_count": 39,
   "metadata": {
    "collapsed": true
   },
   "outputs": [],
   "source": [
    "tickr = sp[0]"
   ]
  },
  {
   "cell_type": "code",
   "execution_count": 40,
   "metadata": {
    "collapsed": false
   },
   "outputs": [
    {
     "data": {
      "text/plain": [
       "0     AAPL\n",
       "1     ABBV\n",
       "2      ABT\n",
       "3      ACN\n",
       "4      AIG\n",
       "5      ALL\n",
       "6     AMGN\n",
       "7     AMZN\n",
       "8      APA\n",
       "9      APC\n",
       "10     AXP\n",
       "11      BA\n",
       "12     BAC\n",
       "13     BAX\n",
       "14    BIIB\n",
       "...\n",
       "85      T\n",
       "86    TGT\n",
       "87    TWX\n",
       "88    TXN\n",
       "89    UNH\n",
       "90    UNP\n",
       "91    UPS\n",
       "92    USB\n",
       "93    UTX\n",
       "94      V\n",
       "95     VZ\n",
       "96    WBA\n",
       "97    WFC\n",
       "98    WMT\n",
       "99    XOM\n",
       "Name: 0, Length: 100, dtype: object"
      ]
     },
     "execution_count": 40,
     "metadata": {},
     "output_type": "execute_result"
    }
   ],
   "source": [
    "tickr"
   ]
  },
  {
   "cell_type": "code",
   "execution_count": 41,
   "metadata": {
    "collapsed": false
   },
   "outputs": [
    {
     "data": {
      "text/plain": [
       "pandas.core.series.Series"
      ]
     },
     "execution_count": 41,
     "metadata": {},
     "output_type": "execute_result"
    }
   ],
   "source": [
    "type(tickr)"
   ]
  },
  {
   "cell_type": "code",
   "execution_count": 42,
   "metadata": {
    "collapsed": false
   },
   "outputs": [
    {
     "data": {
      "text/plain": [
       "1     ABBV\n",
       "2      ABT\n",
       "3      ACN\n",
       "4      AIG\n",
       "5      ALL\n",
       "6     AMGN\n",
       "7     AMZN\n",
       "8      APA\n",
       "9      APC\n",
       "10     AXP\n",
       "11      BA\n",
       "12     BAC\n",
       "13     BAX\n",
       "14    BIIB\n",
       "15      BK\n",
       "...\n",
       "85      T\n",
       "86    TGT\n",
       "87    TWX\n",
       "88    TXN\n",
       "89    UNH\n",
       "90    UNP\n",
       "91    UPS\n",
       "92    USB\n",
       "93    UTX\n",
       "94      V\n",
       "95     VZ\n",
       "96    WBA\n",
       "97    WFC\n",
       "98    WMT\n",
       "99    XOM\n",
       "Name: 0, Length: 99, dtype: object"
      ]
     },
     "execution_count": 42,
     "metadata": {},
     "output_type": "execute_result"
    }
   ],
   "source": [
    "tickr[1:]"
   ]
  },
  {
   "cell_type": "code",
   "execution_count": 43,
   "metadata": {
    "collapsed": false
   },
   "outputs": [
    {
     "data": {
      "text/plain": [
       "0                            Apple Inc.\n",
       "1                           AbbVie Inc.\n",
       "2                   Abbott Laboratories\n",
       "3                         Accenture plc\n",
       "4     American International Group Inc.\n",
       "5                        Allstate Corp.\n",
       "6                            Amgen Inc.\n",
       "7                            Amazon.com\n",
       "8                          Apache Corp.\n",
       "9        Anadarko Petroleum Corporation\n",
       "10                American Express Inc.\n",
       "11                           Boeing Co.\n",
       "12                 Bank of America Corp\n",
       "13             Baxter International Inc\n",
       "14                          Biogen Idec\n",
       "...\n",
       "85                      AT&T Inc\n",
       "86                  Target Corp.\n",
       "87              Time Warner Inc.\n",
       "88             Texas Instruments\n",
       "89       UnitedHealth Group Inc.\n",
       "90           Union Pacific Corp.\n",
       "91     United Parcel Service Inc\n",
       "92                    US Bancorp\n",
       "93      United Technologies Corp\n",
       "94                     Visa Inc.\n",
       "95    Verizon Communications Inc\n",
       "96      Walgreens Boots Alliance\n",
       "97                   Wells Fargo\n",
       "98                      Wal-Mart\n",
       "99              Exxon Mobil Corp\n",
       "Name: 1, Length: 100, dtype: object"
      ]
     },
     "execution_count": 43,
     "metadata": {},
     "output_type": "execute_result"
    }
   ],
   "source": [
    "names = sp[1]\n",
    "names"
   ]
  },
  {
   "cell_type": "code",
   "execution_count": 44,
   "metadata": {
    "collapsed": false
   },
   "outputs": [],
   "source": [
    "tmp = tickr[0]\n",
    "for i in tickr[1:]:\n",
    "    tmp = tmp + ', '  + i\n",
    "for i in names:\n",
    "    tmp = tmp + ', ' + i"
   ]
  },
  {
   "cell_type": "code",
   "execution_count": 45,
   "metadata": {
    "collapsed": false
   },
   "outputs": [
    {
     "data": {
      "text/plain": [
       "\"AAPL, ABBV, ABT, ACN, AIG, ALL, AMGN, AMZN, APA, APC, AXP, BA, BAC, BAX, BIIB, BK, BMY, BRK.B, C, CAT, CL, CMCSA, COF, COP, COST, CSCO, CVS, CVX, DD, DIS, DOW, DVN, EBAY, EMC, EMR, EXC, F, FB, FCX, FDX, FOXA, GD, GE, GILD, GM, GOOG, GS, HAL, HD, HON, HPQ, IBM, INTC, JNJ, JPM, KO, LLY, LMT, LOW, MA, MCD, MDLZ, MDT, MET, MMM, MO, MON, MRK, MS, MSFT, NKE, NOV, NSC, ORCL, OXY, PEP, PFE, PG, PM, QCOM, RTN, SBUX, SLB, SO, SPG, T, TGT, TWX, TXN, UNH, UNP, UPS, USB, UTX, V, VZ, WBA, WFC, WMT, XOM, Apple Inc., AbbVie Inc., Abbott Laboratories, Accenture plc, American International Group Inc., Allstate Corp., Amgen Inc., Amazon.com, Apache Corp., Anadarko Petroleum Corporation, American Express Inc., Boeing Co., Bank of America Corp, Baxter International Inc, Biogen Idec, Bank of New York, Bristol-Myers Squibb, Berkshire Hathaway, Citigroup Inc, Caterpillar Inc, Colgate-Palmolive Co., Comcast Corporation, Capital One Financial Corp., ConocoPhillips, Costco, Cisco Systems, CVS Caremark, Chevron, DuPont, The Walt Disney Company, Dow Chemical, Devon Energy, eBay Inc., EMC Corporation, Emerson Electric Co., Exelon, Ford Motor, Facebook, Freeport-McMoran, FedEx, Twenty-First Century Fox, Inc, General Dynamics, General Electric Co., Gilead Sciences, General Motors, Google Inc., Goldman Sachs, Halliburton, Home Depot, Honeywell, Hewlett Packard Co, International Business Machines, Intel Corporation, Johnson & Johnson Inc, JP Morgan Chase & Co, The Coca-Cola Company, Eli Lilly and Company, Lockheed-Martin, Lowe's, Mastercard Inc, McDonald's Corp, Mondel\\xc4\\x93z International, Medtronic Inc., Metlife Inc., 3M Company, Altria Group, Monsanto, Merck & Co., Morgan Stanley, Microsoft, Nike, National Oilwell Varco, Norfolk Southern Corp, Oracle Corporation, Occidental Petroleum Corp., Pepsico Inc., Pfizer Inc, Procter & Gamble Co, Phillip Morris International, Qualcomm Inc., Raytheon Co (NEW), Starbucks Corporation, Schlumberger, Southern Company, Simon Property Group, Inc., AT&T Inc, Target Corp., Time Warner Inc., Texas Instruments, UnitedHealth Group Inc., Union Pacific Corp., United Parcel Service Inc, US Bancorp, United Technologies Corp, Visa Inc., Verizon Communications Inc, Walgreens Boots Alliance, Wells Fargo, Wal-Mart, Exxon Mobil Corp\""
      ]
     },
     "execution_count": 45,
     "metadata": {},
     "output_type": "execute_result"
    }
   ],
   "source": [
    "tmp"
   ]
  },
  {
   "cell_type": "code",
   "execution_count": 46,
   "metadata": {
    "collapsed": true
   },
   "outputs": [],
   "source": [
    "tmp = tmp.replace('.', '')"
   ]
  },
  {
   "cell_type": "code",
   "execution_count": 47,
   "metadata": {
    "collapsed": false
   },
   "outputs": [
    {
     "data": {
      "text/plain": [
       "\"AAPL, ABBV, ABT, ACN, AIG, ALL, AMGN, AMZN, APA, APC, AXP, BA, BAC, BAX, BIIB, BK, BMY, BRKB, C, CAT, CL, CMCSA, COF, COP, COST, CSCO, CVS, CVX, DD, DIS, DOW, DVN, EBAY, EMC, EMR, EXC, F, FB, FCX, FDX, FOXA, GD, GE, GILD, GM, GOOG, GS, HAL, HD, HON, HPQ, IBM, INTC, JNJ, JPM, KO, LLY, LMT, LOW, MA, MCD, MDLZ, MDT, MET, MMM, MO, MON, MRK, MS, MSFT, NKE, NOV, NSC, ORCL, OXY, PEP, PFE, PG, PM, QCOM, RTN, SBUX, SLB, SO, SPG, T, TGT, TWX, TXN, UNH, UNP, UPS, USB, UTX, V, VZ, WBA, WFC, WMT, XOM, Apple Inc, AbbVie Inc, Abbott Laboratories, Accenture plc, American International Group Inc, Allstate Corp, Amgen Inc, Amazoncom, Apache Corp, Anadarko Petroleum Corporation, American Express Inc, Boeing Co, Bank of America Corp, Baxter International Inc, Biogen Idec, Bank of New York, Bristol-Myers Squibb, Berkshire Hathaway, Citigroup Inc, Caterpillar Inc, Colgate-Palmolive Co, Comcast Corporation, Capital One Financial Corp, ConocoPhillips, Costco, Cisco Systems, CVS Caremark, Chevron, DuPont, The Walt Disney Company, Dow Chemical, Devon Energy, eBay Inc, EMC Corporation, Emerson Electric Co, Exelon, Ford Motor, Facebook, Freeport-McMoran, FedEx, Twenty-First Century Fox, Inc, General Dynamics, General Electric Co, Gilead Sciences, General Motors, Google Inc, Goldman Sachs, Halliburton, Home Depot, Honeywell, Hewlett Packard Co, International Business Machines, Intel Corporation, Johnson & Johnson Inc, JP Morgan Chase & Co, The Coca-Cola Company, Eli Lilly and Company, Lockheed-Martin, Lowe's, Mastercard Inc, McDonald's Corp, Mondel\\xc4\\x93z International, Medtronic Inc, Metlife Inc, 3M Company, Altria Group, Monsanto, Merck & Co, Morgan Stanley, Microsoft, Nike, National Oilwell Varco, Norfolk Southern Corp, Oracle Corporation, Occidental Petroleum Corp, Pepsico Inc, Pfizer Inc, Procter & Gamble Co, Phillip Morris International, Qualcomm Inc, Raytheon Co (NEW), Starbucks Corporation, Schlumberger, Southern Company, Simon Property Group, Inc, AT&T Inc, Target Corp, Time Warner Inc, Texas Instruments, UnitedHealth Group Inc, Union Pacific Corp, United Parcel Service Inc, US Bancorp, United Technologies Corp, Visa Inc, Verizon Communications Inc, Walgreens Boots Alliance, Wells Fargo, Wal-Mart, Exxon Mobil Corp\""
      ]
     },
     "execution_count": 47,
     "metadata": {},
     "output_type": "execute_result"
    }
   ],
   "source": [
    "tmp"
   ]
  },
  {
   "cell_type": "code",
   "execution_count": null,
   "metadata": {
    "collapsed": true
   },
   "outputs": [],
   "source": []
  },
  {
   "cell_type": "code",
   "execution_count": null,
   "metadata": {
    "collapsed": true
   },
   "outputs": [],
   "source": []
  },
  {
   "cell_type": "code",
   "execution_count": null,
   "metadata": {
    "collapsed": true
   },
   "outputs": [],
   "source": []
  }
 ],
 "metadata": {
  "kernelspec": {
   "display_name": "Python 2",
   "language": "python",
   "name": "python2"
  },
  "language_info": {
   "codemirror_mode": {
    "name": "ipython",
    "version": 2
   },
   "file_extension": ".py",
   "mimetype": "text/x-python",
   "name": "python",
   "nbconvert_exporter": "python",
   "pygments_lexer": "ipython2",
   "version": "2.7.9"
  }
 },
 "nbformat": 4,
 "nbformat_minor": 0
}
