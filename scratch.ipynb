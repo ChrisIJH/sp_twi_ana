{
 "cells": [
  {
   "cell_type": "code",
   "execution_count": 1,
   "metadata": {
    "collapsed": true
   },
   "outputs": [],
   "source": [
    "import numpy as np\n",
    "import pandas as pd"
   ]
  },
  {
   "cell_type": "code",
   "execution_count": 10,
   "metadata": {
    "collapsed": false
   },
   "outputs": [],
   "source": [
    "sp = pd.read_table('sp500', header=None)"
   ]
  },
  {
   "cell_type": "code",
   "execution_count": 11,
   "metadata": {
    "collapsed": false
   },
   "outputs": [
    {
     "data": {
      "text/html": [
       "<div style=\"max-height:1000px;max-width:1500px;overflow:auto;\">\n",
       "<table border=\"1\" class=\"dataframe\">\n",
       "  <thead>\n",
       "    <tr style=\"text-align: right;\">\n",
       "      <th></th>\n",
       "      <th>0</th>\n",
       "      <th>1</th>\n",
       "      <th>2</th>\n",
       "      <th>3</th>\n",
       "      <th>4</th>\n",
       "      <th>5</th>\n",
       "      <th>6</th>\n",
       "      <th>7</th>\n",
       "    </tr>\n",
       "  </thead>\n",
       "  <tbody>\n",
       "    <tr>\n",
       "      <th>0</th>\n",
       "      <td>  ABT</td>\n",
       "      <td> Abbott Laboratories</td>\n",
       "      <td> reports</td>\n",
       "      <td>            Health Care</td>\n",
       "      <td> Health Care Equipment &amp; Services</td>\n",
       "      <td> North Chicago, Illinois</td>\n",
       "      <td>        NaN</td>\n",
       "      <td>    1800</td>\n",
       "    </tr>\n",
       "    <tr>\n",
       "      <th>1</th>\n",
       "      <td> ABBV</td>\n",
       "      <td>              AbbVie</td>\n",
       "      <td> reports</td>\n",
       "      <td>            Health Care</td>\n",
       "      <td>                  Pharmaceuticals</td>\n",
       "      <td> North Chicago, Illinois</td>\n",
       "      <td> 2012-12-31</td>\n",
       "      <td> 1551152</td>\n",
       "    </tr>\n",
       "    <tr>\n",
       "      <th>2</th>\n",
       "      <td>  ACE</td>\n",
       "      <td>         ACE Limited</td>\n",
       "      <td> reports</td>\n",
       "      <td>             Financials</td>\n",
       "      <td>    Property &amp; Casualty Insurance</td>\n",
       "      <td>     Zurich, Switzerland</td>\n",
       "      <td>        NaN</td>\n",
       "      <td>  896159</td>\n",
       "    </tr>\n",
       "    <tr>\n",
       "      <th>3</th>\n",
       "      <td>  ACN</td>\n",
       "      <td>       Accenture plc</td>\n",
       "      <td> reports</td>\n",
       "      <td> Information Technology</td>\n",
       "      <td>         IT Consulting &amp; Services</td>\n",
       "      <td>         Dublin, Ireland</td>\n",
       "      <td>        NaN</td>\n",
       "      <td> 1467373</td>\n",
       "    </tr>\n",
       "    <tr>\n",
       "      <th>4</th>\n",
       "      <td>  ACT</td>\n",
       "      <td>         Actavis plc</td>\n",
       "      <td> reports</td>\n",
       "      <td>            Health Care</td>\n",
       "      <td>                  Pharmaceuticals</td>\n",
       "      <td>         Dublin, Ireland</td>\n",
       "      <td>        NaN</td>\n",
       "      <td>  884629</td>\n",
       "    </tr>\n",
       "  </tbody>\n",
       "</table>\n",
       "</div>"
      ],
      "text/plain": [
       "      0                    1        2                       3  \\\n",
       "0   ABT  Abbott Laboratories  reports             Health Care   \n",
       "1  ABBV               AbbVie  reports             Health Care   \n",
       "2   ACE          ACE Limited  reports              Financials   \n",
       "3   ACN        Accenture plc  reports  Information Technology   \n",
       "4   ACT          Actavis plc  reports             Health Care   \n",
       "\n",
       "                                  4                        5           6  \\\n",
       "0  Health Care Equipment & Services  North Chicago, Illinois         NaN   \n",
       "1                   Pharmaceuticals  North Chicago, Illinois  2012-12-31   \n",
       "2     Property & Casualty Insurance      Zurich, Switzerland         NaN   \n",
       "3          IT Consulting & Services          Dublin, Ireland         NaN   \n",
       "4                   Pharmaceuticals          Dublin, Ireland         NaN   \n",
       "\n",
       "         7  \n",
       "0     1800  \n",
       "1  1551152  \n",
       "2   896159  \n",
       "3  1467373  \n",
       "4   884629  "
      ]
     },
     "execution_count": 11,
     "metadata": {},
     "output_type": "execute_result"
    }
   ],
   "source": [
    "sp.head()"
   ]
  },
  {
   "cell_type": "code",
   "execution_count": 12,
   "metadata": {
    "collapsed": false
   },
   "outputs": [
    {
     "data": {
      "text/plain": [
       "0      ABT\n",
       "1     ABBV\n",
       "2      ACE\n",
       "3      ACN\n",
       "4      ACT\n",
       "5     ADBE\n",
       "6      ADT\n",
       "7      AES\n",
       "8      AET\n",
       "9      AFL\n",
       "10     AMG\n",
       "11       A\n",
       "12     GAS\n",
       "13     APD\n",
       "14     ARG\n",
       "...\n",
       "485     WMB\n",
       "486     WIN\n",
       "487     WEC\n",
       "488     WYN\n",
       "489    WYNN\n",
       "490     XEL\n",
       "491     XRX\n",
       "492    XLNX\n",
       "493      XL\n",
       "494     XYL\n",
       "495    YHOO\n",
       "496     YUM\n",
       "497     ZMH\n",
       "498    ZION\n",
       "499     ZTS\n",
       "Name: 0, Length: 500, dtype: object"
      ]
     },
     "execution_count": 12,
     "metadata": {},
     "output_type": "execute_result"
    }
   ],
   "source": [
    "sp[0]"
   ]
  },
  {
   "cell_type": "code",
   "execution_count": 13,
   "metadata": {
    "collapsed": true
   },
   "outputs": [],
   "source": [
    "tmp = 'abc, edb'"
   ]
  },
  {
   "cell_type": "code",
   "execution_count": 14,
   "metadata": {
    "collapsed": false
   },
   "outputs": [
    {
     "data": {
      "text/plain": [
       "'abc, edb'"
      ]
     },
     "execution_count": 14,
     "metadata": {},
     "output_type": "execute_result"
    }
   ],
   "source": [
    "tmp"
   ]
  },
  {
   "cell_type": "code",
   "execution_count": 15,
   "metadata": {
    "collapsed": false
   },
   "outputs": [
    {
     "data": {
      "text/plain": [
       "str"
      ]
     },
     "execution_count": 15,
     "metadata": {},
     "output_type": "execute_result"
    }
   ],
   "source": [
    "type(tmp)"
   ]
  },
  {
   "cell_type": "code",
   "execution_count": 16,
   "metadata": {
    "collapsed": true
   },
   "outputs": [],
   "source": [
    "tmp = tmp + ', ' + 'ddd'"
   ]
  },
  {
   "cell_type": "code",
   "execution_count": 17,
   "metadata": {
    "collapsed": false
   },
   "outputs": [
    {
     "data": {
      "text/plain": [
       "'abc, edb, ddd'"
      ]
     },
     "execution_count": 17,
     "metadata": {},
     "output_type": "execute_result"
    }
   ],
   "source": [
    "tmp"
   ]
  },
  {
   "cell_type": "code",
   "execution_count": 18,
   "metadata": {
    "collapsed": true
   },
   "outputs": [],
   "source": [
    "tmp = ''"
   ]
  },
  {
   "cell_type": "code",
   "execution_count": 21,
   "metadata": {
    "collapsed": true
   },
   "outputs": [],
   "source": [
    "tickr = sp[0]"
   ]
  },
  {
   "cell_type": "code",
   "execution_count": 22,
   "metadata": {
    "collapsed": false
   },
   "outputs": [
    {
     "data": {
      "text/plain": [
       "0      ABT\n",
       "1     ABBV\n",
       "2      ACE\n",
       "3      ACN\n",
       "4      ACT\n",
       "5     ADBE\n",
       "6      ADT\n",
       "7      AES\n",
       "8      AET\n",
       "9      AFL\n",
       "10     AMG\n",
       "11       A\n",
       "12     GAS\n",
       "13     APD\n",
       "14     ARG\n",
       "...\n",
       "485     WMB\n",
       "486     WIN\n",
       "487     WEC\n",
       "488     WYN\n",
       "489    WYNN\n",
       "490     XEL\n",
       "491     XRX\n",
       "492    XLNX\n",
       "493      XL\n",
       "494     XYL\n",
       "495    YHOO\n",
       "496     YUM\n",
       "497     ZMH\n",
       "498    ZION\n",
       "499     ZTS\n",
       "Name: 0, Length: 500, dtype: object"
      ]
     },
     "execution_count": 22,
     "metadata": {},
     "output_type": "execute_result"
    }
   ],
   "source": [
    "tickr"
   ]
  },
  {
   "cell_type": "code",
   "execution_count": 23,
   "metadata": {
    "collapsed": false
   },
   "outputs": [
    {
     "data": {
      "text/plain": [
       "pandas.core.series.Series"
      ]
     },
     "execution_count": 23,
     "metadata": {},
     "output_type": "execute_result"
    }
   ],
   "source": [
    "type(tickr)"
   ]
  },
  {
   "cell_type": "code",
   "execution_count": 28,
   "metadata": {
    "collapsed": false
   },
   "outputs": [
    {
     "data": {
      "text/plain": [
       "1     ABBV\n",
       "2      ACE\n",
       "3      ACN\n",
       "4      ACT\n",
       "5     ADBE\n",
       "6      ADT\n",
       "7      AES\n",
       "8      AET\n",
       "9      AFL\n",
       "10     AMG\n",
       "11       A\n",
       "12     GAS\n",
       "13     APD\n",
       "14     ARG\n",
       "15    AKAM\n",
       "...\n",
       "485     WMB\n",
       "486     WIN\n",
       "487     WEC\n",
       "488     WYN\n",
       "489    WYNN\n",
       "490     XEL\n",
       "491     XRX\n",
       "492    XLNX\n",
       "493      XL\n",
       "494     XYL\n",
       "495    YHOO\n",
       "496     YUM\n",
       "497     ZMH\n",
       "498    ZION\n",
       "499     ZTS\n",
       "Name: 0, Length: 499, dtype: object"
      ]
     },
     "execution_count": 28,
     "metadata": {},
     "output_type": "execute_result"
    }
   ],
   "source": [
    "tickr[1:]"
   ]
  },
  {
   "cell_type": "code",
   "execution_count": 31,
   "metadata": {
    "collapsed": false
   },
   "outputs": [
    {
     "data": {
      "text/plain": [
       "0               Abbott Laboratories\n",
       "1                            AbbVie\n",
       "2                       ACE Limited\n",
       "3                     Accenture plc\n",
       "4                       Actavis plc\n",
       "5                 Adobe Systems Inc\n",
       "6                          ADT Corp\n",
       "7                          AES Corp\n",
       "8                         Aetna Inc\n",
       "9                         AFLAC Inc\n",
       "10    Affiliated Managers Group Inc\n",
       "11         Agilent Technologies Inc\n",
       "12               AGL Resources Inc.\n",
       "13     Air Products & Chemicals Inc\n",
       "14                       Airgas Inc\n",
       "...\n",
       "485                   Williams Cos.\n",
       "486       Windstream Communications\n",
       "487    Wisconsin Energy Corporation\n",
       "488               Wyndham Worldwide\n",
       "489                Wynn Resorts Ltd\n",
       "490                 Xcel Energy Inc\n",
       "491                     Xerox Corp.\n",
       "492                      Xilinx Inc\n",
       "493                      XL Capital\n",
       "494                      Xylem Inc.\n",
       "495                      Yahoo Inc.\n",
       "496                 Yum! Brands Inc\n",
       "497                 Zimmer Holdings\n",
       "498                   Zions Bancorp\n",
       "499                          Zoetis\n",
       "Name: 1, Length: 500, dtype: object"
      ]
     },
     "execution_count": 31,
     "metadata": {},
     "output_type": "execute_result"
    }
   ],
   "source": [
    "names = sp[1]\n",
    "names"
   ]
  },
  {
   "cell_type": "code",
   "execution_count": 32,
   "metadata": {
    "collapsed": false
   },
   "outputs": [],
   "source": [
    "tmp = tickr[0]\n",
    "for i in tickr[1:]:\n",
    "    tmp = tmp + ', '  + i\n",
    "for i in names:\n",
    "    tmp = tmp + ', ' + i"
   ]
  },
  {
   "cell_type": "code",
   "execution_count": 33,
   "metadata": {
    "collapsed": false
   },
   "outputs": [
    {
     "data": {
      "text/plain": [
       "\"ABT, ABBV, ACE, ACN, ACT, ADBE, ADT, AES, AET, AFL, AMG, A, GAS, APD, ARG, AKAM, AA, ALXN, ATI, ALLE, AGN, ADS, ALL, ALTR, MO, AMZN, AEE, AEP, AXP, AIG, AMT, AMP, ABC, AME, AMGN, APH, APC, ADI, AON, APA, AIV, AAPL, AMAT, ADM, AIZ, T, ADSK, ADP, AN, AZO, AVGO, AVB, AVY, AVP, BHI, BLL, BAC, BK, BCR, BAX, BBT, BDX, BBBY, BMS, BBY, BIIB, BLK, HRB, BA, BWA, BXP, BSX, BMY, BRCM, CHRW, CA, CVC, COG, CAM, CPB, COF, CAH, CFN, KMX, CCL, CAT, CBG, CBS, CELG, CNP, CTL, CERN, CF, SCHW, CHK, CVX, CMG, CB, CI, XEC, CINF, CTAS, CSCO, C, CTXS, CLX, CME, CMS, COH, KO, CCE, CTSH, CL, CMCSA, CMA, CSC, CAG, COP, CNX, ED, STZ, GLW, COST, COV, CCI, CSX, CMI, CVS, DHI, DHR, DRI, DVA, DE, DLPH, DAL, DNR, XRAY, DVN, DO, DTV, DFS, DISCA, DISCK, DG, DLTR, D, DOV, DOW, DPS, DTE, DD, DUK, DNB, ETFC, EMN, ETN, EBAY, ECL, EIX, EW, EA, EMC, EMR, ESV, ETR, EOG, EQT, EFX, EQR, ESS, EL, EXC, EXPE, EXPD, ESRX, XOM, FFIV, FB, FDO, FAST, FDX, FIS, FITB, FSLR, FE, FISV, FLIR, FLS, FLR, FMC, FTI, F, FOSL, BEN, FCX, FTR, GME, GCI, GPS, GRMN, GD, GE, GGP, GIS, GM, GPC, GNW, GILD, GS, GT, GOOGL, GOOG, GWW, HAL, HOG, HAR, HRS, HIG, HAS, HCP, HCN, HP, HES, HPQ, HD, HON, HRL, HSP, HST, HCBK, HUM, HBAN, ITW, IR, TEG, INTC, ICE, IBM, IP, IPG, IFF, INTU, ISRG, IVZ, IRM, JEC, JNJ, JCI, JOY, JPM, JNPR, KSU, K, KEY, GMCR, KMB, KIM, KMI, KLAC, KSS, KRFT, KR, LB, LLL, LH, LRCX, LM, LEG, LEN, LVLT, LUK, LLY, LNC, LLTC, LMT, L, LO, LOW, LYB, MTB, MAC, M, MMM, MNK, MRO, MPC, MAR, MMC, MAS, MA, MAT, MKC, MCD, MHFI, MCK, MJN, MWV, MDT, MRK, MET, MCHP, MU, MSFT, MHK, TAP, MDLZ, MON, MNST, MCO, MS, MOS, MSI, MUR, MYL, NBR, NDAQ, NOV, NAVI, NTAP, NFLX, NWL, NFX, NEM, NWSA, NEE, NLSN, NKE, NI, NE, NBL, JWN, NSC, NTRS, NOC, NU, NRG, NUE, NVDA, KORS, ORLY, OXY, OMC, OKE, ORCL, OI, PCG, PCAR, PLL, PH, PDCO, PAYX, PNR, PBCT, POM, PEP, PKI, PRGO, PETM, PFE, PM, PSX, PNW, PXD, PBI, PCL, PNC, RL, PPG, PPL, PX, PCP, PCLN, PFG, PG, PGR, PLD, PRU, PEG, PSA, PHM, PVH, QEP, PWR, QCOM, DGX, RRC, RTN, RHT, REGN, RF, RSG, RAI, RHI, ROK, COL, ROP, ROST, R, SWY, CRM, SNDK, SCG, SLB, SNI, STX, SEE, SRE, SHW, SIAL, SPG, SJM, SNA, SO, LUV, SWN, SE, STJ, SWK, SPLS, SBUX, HOT, STT, SRCL, SYK, STI, SYMC, SYY, TROW, TGT, TEL, TE, THC, TDC, TSO, TXN, TXT, HSY, TRV, TMO, TIF, TWX, TWC, TJX, TMK, TSS, TSCO, RIG, TRIP, FOXA, TSN, TYC, USB, UA, UNP, UNH, UPS, MLM, URI, UTX, UHS, UNM, URBN, VFC, VLO, VAR, VTR, VRSN, VZ, VRTX, VIAB, V, VNO, VMC, WMT, WAG, DIS, WM, WAT, WLP, WFC, WDC, WU, WY, WHR, WFM, WMB, WIN, WEC, WYN, WYNN, XEL, XRX, XLNX, XL, XYL, YHOO, YUM, ZMH, ZION, ZTS, Abbott Laboratories, AbbVie, ACE Limited, Accenture plc, Actavis plc, Adobe Systems Inc, ADT Corp, AES Corp, Aetna Inc, AFLAC Inc, Affiliated Managers Group Inc, Agilent Technologies Inc, AGL Resources Inc., Air Products & Chemicals Inc, Airgas Inc, Akamai Technologies Inc, Alcoa Inc, Alexion Pharmaceuticals, Allegheny Technologies Inc, Allegion, Allergan Inc, Alliance Data Systems, Allstate Corp, Altera Corp, Altria Group Inc, Amazon.com Inc, Ameren Corp, American Electric Power, American Express Co, American International Group, Inc., American Tower Corp A, Ameriprise Financial, AmerisourceBergen Corp, Ametek, Amgen Inc, Amphenol Corp A, Anadarko Petroleum Corp, Analog Devices, Inc., Aon plc, Apache Corporation, Apartment Investment & Mgmt, Apple Inc., Applied Materials Inc, Archer-Daniels-Midland Co, Assurant Inc, AT&T Inc, Autodesk Inc, Automatic Data Processing, AutoNation Inc, AutoZone Inc, Avago Technologies, AvalonBay Communities, Inc., Avery Dennison Corp, Avon Products, Baker Hughes Inc, Ball Corp, Bank of America Corp, The Bank of New York Mellon Corp., Bard (C.R.) Inc., Baxter International Inc., BB&T Corporation, Becton Dickinson, Bed Bath & Beyond, Bemis Company, Best Buy Co. Inc., BIOGEN IDEC Inc., BlackRock, Block H&R, Boeing Company, BorgWarner, Boston Properties, Boston Scientific, Bristol-Myers Squibb, Broadcom Corporation, C. H. Robinson Worldwide, CA, Inc., Cablevision Systems Corp., Cabot Oil & Gas, Cameron International Corp., Campbell Soup, Capital One Financial, Cardinal Health Inc., Carefusion, Carmax Inc, Carnival Corp., Caterpillar Inc., CBRE Group, CBS Corp., Celgene Corp., CenterPoint Energy, CenturyLink Inc, Cerner, CF Industries Holdings Inc, Charles Schwab Corporation, Chesapeake Energy, Chevron Corp., Chipotle Mexican Grill, Chubb Corp., CIGNA Corp., Cimarex Energy, Cincinnati Financial, Cintas Corporation, Cisco Systems, Citigroup Inc., Citrix Systems, The Clorox Company, CME Group Inc., CMS Energy, Coach Inc., The Coca Cola Company, Coca-Cola Enterprises, Cognizant Technology Solutions, Colgate-Palmolive, Comcast Corp., Comerica Inc., Computer Sciences Corp., ConAgra Foods Inc., ConocoPhillips, CONSOL Energy Inc., Consolidated Edison, Constellation Brands, Corning Inc., Costco Co., Covidien plc, Crown Castle International Corp., CSX Corp., Cummins Inc., CVS Caremark Corp., D. R. Horton, Danaher Corp., Darden Restaurants, DaVita Inc., Deere & Co., Delphi Automotive, Delta Air Lines, Denbury Resources Inc., Dentsply International, Devon Energy Corp., Diamond Offshore Drilling, DirecTV, Discover Financial Services, Discovery Communications-A, Discovery Communications-C, Dollar General, Dollar Tree, Dominion Resources, Dover Corp., Dow Chemical, Dr Pepper Snapple Group, DTE Energy Co., Du Pont (E.I.), Duke Energy, Dun & Bradstreet, E-Trade, Eastman Chemical, Eaton Corporation, eBay Inc., Ecolab Inc., Edison Int'l, Edwards Lifesciences, Electronic Arts, EMC Corp., Emerson Electric, Ensco plc, Entergy Corp., EOG Resources, EQT Corporation, Equifax Inc., Equity Residential, Essex Property Trust Inc, Estee Lauder Cos., Exelon Corp., Expedia Inc., Expeditors Int'l, Express Scripts, Exxon Mobil Corp., F5 Networks, Facebook, Family Dollar Stores, Fastenal Co, FedEx Corporation, Fidelity National Information Services, Fifth Third Bancorp, First Solar Inc, FirstEnergy Corp, Fiserv Inc, FLIR Systems, Flowserve Corporation, Fluor Corp., FMC Corporation, FMC Technologies Inc., Ford Motor, Fossil, Inc., Franklin Resources, Freeport-McMoran Cp & Gld, Frontier Communications, GameStop Corp., Gannett Co., Gap (The), Garmin Ltd., General Dynamics, General Electric, General Growth Properties Inc., General Mills, General Motors, Genuine Parts, Genworth Financial Inc., Gilead Sciences, Goldman Sachs Group, Goodyear Tire & Rubber, Google Inc Class A, Google Inc Class C, Grainger (W.W.) Inc., Halliburton Co., Harley-Davidson, Harman Int'l Industries, Harris Corporation, Hartford Financial Svc.Gp., Hasbro Inc., HCP Inc., Health Care REIT, Inc., Helmerich & Payne, Hess Corporation, Hewlett-Packard, Home Depot, Honeywell Int'l Inc., Hormel Foods Corp., Hospira Inc., Host Hotels & Resorts, Hudson City Bancorp, Humana Inc., Huntington Bancshares, Illinois Tool Works, Ingersoll-Rand PLC, Integrys Energy Group Inc., Intel Corp., Intercontinental Exchange, International Bus. Machines, International Paper, Interpublic Group, Intl Flavors & Fragrances, Intuit Inc., Intuitive Surgical Inc., Invesco Ltd., Iron Mountain Incorporated, Jacobs Engineering Group, Johnson & Johnson, Johnson Controls, Joy Global Inc., JPMorgan Chase & Co., Juniper Networks, Kansas City Southern, Kellogg Co., KeyCorp, Keurig Green Mountain, Kimberly-Clark, Kimco Realty, Kinder Morgan, KLA-Tencor Corp., Kohl's Corp., Kraft Foods Group, Kroger Co., L Brands Inc., L-3 Communications Holdings, Laboratory Corp. of America Holding, Lam Research, Legg Mason, Leggett & Platt, Lennar Corp., Level 3 Communications, Leucadia National Corp., Lilly (Eli) & Co., Lincoln National, Linear Technology Corp., Lockheed Martin Corp., Loews Corp., Lorillard Inc., Lowe's Cos., LyondellBasell, M&T Bank Corp., Macerich, Macy's Inc., 3M Company, Mallinckrodt plc, Marathon Oil Corp., Marathon Petroleum, Marriott Int'l., Marsh & McLennan, Masco Corp., Mastercard Inc., Mattel Inc., McCormick & Co., McDonald's Corp., McGraw Hill Financial, McKesson Corp., Mead Johnson, MeadWestvaco Corporation, Medtronic Inc., Merck & Co., MetLife Inc., Microchip Technology, Micron Technology, Microsoft Corp., Mohawk Industries, Molson Coors Brewing Company, Mondelez International, Monsanto Co., Monster Beverage, Moody's Corp, Morgan Stanley, The Mosaic Company, Motorola Solutions Inc., Murphy Oil, Mylan Inc., Nabors Industries Ltd., NASDAQ OMX Group, National Oilwell Varco Inc., Navient Corp, NetApp, Netflix Inc., Newell Rubbermaid Co., Newfield Exploration Co, Newmont Mining Corp. (Hldg. Co.), News Corporation, NextEra Energy, Nielsen Holdings, NIKE Inc., NiSource Inc., Noble Corp, Noble Energy Inc, Nordstrom, Norfolk Southern Corp., Northern Trust Corp., Northrop Grumman Corp., Northeast Utilities, NRG Energy, Nucor Corp., Nvidia Corporation, Michael Kors, O'Reilly Automotive, Occidental Petroleum, Omnicom Group, ONEOK, Oracle Corp., Owens-Illinois Inc, P G & E Corp., PACCAR Inc., Pall Corp., Parker-Hannifin, Patterson Companies, Paychex Inc., Pentair Ltd., People's United Bank, Pepco Holdings Inc., PepsiCo Inc., PerkinElmer, Perrigo, PetSmart, Inc., Pfizer Inc., Philip Morris International, Phillips 66, Pinnacle West Capital, Pioneer Natural Resources, Pitney-Bowes, Plum Creek Timber Co., PNC Financial Services, Polo Ralph Lauren Corp., PPG Industries, PPL Corp., Praxair Inc., Precision Castparts, Priceline.com Inc, Principal Financial Group, Procter & Gamble, Progressive Corp., Prologis, Prudential Financial, Public Serv. Enterprise Inc., Public Storage, Pulte Homes Inc., PVH Corp., QEP Resources, Quanta Services Inc., QUALCOMM Inc., Quest Diagnostics, Range Resources Corp., Raytheon Co., Red Hat Inc., Regeneron, Regions Financial Corp., Republic Services Inc, Reynolds American Inc., Robert Half International, Rockwell Automation Inc., Rockwell Collins, Roper Industries, Ross Stores, Ryder System, Safeway Inc., Salesforce.com, SanDisk Corporation, SCANA Corp, Schlumberger Ltd., Scripps Networks Interactive Inc., Seagate Technology, Sealed Air Corp.(New), Sempra Energy, Sherwin-Williams, Sigma-Aldrich, Simon Property Group Inc, Smucker (J.M.), Snap-On Inc., Southern Co., Southwest Airlines, Southwestern Energy, Spectra Energy Corp., St Jude Medical, Stanley Black & Decker, Staples Inc., Starbucks Corp., Starwood Hotels & Resorts, State Street Corp., Stericycle Inc, Stryker Corp., SunTrust Banks, Symantec Corp., Sysco Corp., T. Rowe Price Group, Target Corp., TE Connectivity Ltd., TECO Energy, Tenet Healthcare Corp., Teradata Corp., Tesoro Petroleum Co., Texas Instruments, Textron Inc., The Hershey Company, The Travelers Companies Inc., Thermo Fisher Scientific, Tiffany & Co., Time Warner Inc., Time Warner Cable Inc., TJX Companies Inc., Torchmark Corp., Total System Services, Tractor Supply Company, Transocean, TripAdvisor, Twenty-First Century Fox, Tyson Foods, Tyco International, U.S. Bancorp, Under Armour, Union Pacific, United Health Group Inc., United Parcel Service, Martin Marietta Materials, United Rentals, Inc., United Technologies, Universal Health Services, Inc., Unum Group, Urban Outfitters, V.F. Corp., Valero Energy, Varian Medical Systems, Ventas Inc, Verisign Inc., Verizon Communications, Vertex Pharmaceuticals Inc, Viacom Inc., Visa Inc., Vornado Realty Trust, Vulcan Materials, Wal-Mart Stores, Walgreen Co., The Walt Disney Company, Waste Management Inc., Waters Corporation, WellPoint Inc., Wells Fargo, Western Digital, Western Union Co, Weyerhaeuser Corp., Whirlpool Corp., Whole Foods Market, Williams Cos., Windstream Communications, Wisconsin Energy Corporation, Wyndham Worldwide, Wynn Resorts Ltd, Xcel Energy Inc, Xerox Corp., Xilinx Inc, XL Capital, Xylem Inc., Yahoo Inc., Yum! Brands Inc, Zimmer Holdings, Zions Bancorp, Zoetis\""
      ]
     },
     "execution_count": 33,
     "metadata": {},
     "output_type": "execute_result"
    }
   ],
   "source": [
    "tmp"
   ]
  },
  {
   "cell_type": "code",
   "execution_count": 34,
   "metadata": {
    "collapsed": true
   },
   "outputs": [],
   "source": [
    "tmp = tmp.replace('.', '')"
   ]
  },
  {
   "cell_type": "code",
   "execution_count": 35,
   "metadata": {
    "collapsed": false
   },
   "outputs": [
    {
     "data": {
      "text/plain": [
       "\"ABT, ABBV, ACE, ACN, ACT, ADBE, ADT, AES, AET, AFL, AMG, A, GAS, APD, ARG, AKAM, AA, ALXN, ATI, ALLE, AGN, ADS, ALL, ALTR, MO, AMZN, AEE, AEP, AXP, AIG, AMT, AMP, ABC, AME, AMGN, APH, APC, ADI, AON, APA, AIV, AAPL, AMAT, ADM, AIZ, T, ADSK, ADP, AN, AZO, AVGO, AVB, AVY, AVP, BHI, BLL, BAC, BK, BCR, BAX, BBT, BDX, BBBY, BMS, BBY, BIIB, BLK, HRB, BA, BWA, BXP, BSX, BMY, BRCM, CHRW, CA, CVC, COG, CAM, CPB, COF, CAH, CFN, KMX, CCL, CAT, CBG, CBS, CELG, CNP, CTL, CERN, CF, SCHW, CHK, CVX, CMG, CB, CI, XEC, CINF, CTAS, CSCO, C, CTXS, CLX, CME, CMS, COH, KO, CCE, CTSH, CL, CMCSA, CMA, CSC, CAG, COP, CNX, ED, STZ, GLW, COST, COV, CCI, CSX, CMI, CVS, DHI, DHR, DRI, DVA, DE, DLPH, DAL, DNR, XRAY, DVN, DO, DTV, DFS, DISCA, DISCK, DG, DLTR, D, DOV, DOW, DPS, DTE, DD, DUK, DNB, ETFC, EMN, ETN, EBAY, ECL, EIX, EW, EA, EMC, EMR, ESV, ETR, EOG, EQT, EFX, EQR, ESS, EL, EXC, EXPE, EXPD, ESRX, XOM, FFIV, FB, FDO, FAST, FDX, FIS, FITB, FSLR, FE, FISV, FLIR, FLS, FLR, FMC, FTI, F, FOSL, BEN, FCX, FTR, GME, GCI, GPS, GRMN, GD, GE, GGP, GIS, GM, GPC, GNW, GILD, GS, GT, GOOGL, GOOG, GWW, HAL, HOG, HAR, HRS, HIG, HAS, HCP, HCN, HP, HES, HPQ, HD, HON, HRL, HSP, HST, HCBK, HUM, HBAN, ITW, IR, TEG, INTC, ICE, IBM, IP, IPG, IFF, INTU, ISRG, IVZ, IRM, JEC, JNJ, JCI, JOY, JPM, JNPR, KSU, K, KEY, GMCR, KMB, KIM, KMI, KLAC, KSS, KRFT, KR, LB, LLL, LH, LRCX, LM, LEG, LEN, LVLT, LUK, LLY, LNC, LLTC, LMT, L, LO, LOW, LYB, MTB, MAC, M, MMM, MNK, MRO, MPC, MAR, MMC, MAS, MA, MAT, MKC, MCD, MHFI, MCK, MJN, MWV, MDT, MRK, MET, MCHP, MU, MSFT, MHK, TAP, MDLZ, MON, MNST, MCO, MS, MOS, MSI, MUR, MYL, NBR, NDAQ, NOV, NAVI, NTAP, NFLX, NWL, NFX, NEM, NWSA, NEE, NLSN, NKE, NI, NE, NBL, JWN, NSC, NTRS, NOC, NU, NRG, NUE, NVDA, KORS, ORLY, OXY, OMC, OKE, ORCL, OI, PCG, PCAR, PLL, PH, PDCO, PAYX, PNR, PBCT, POM, PEP, PKI, PRGO, PETM, PFE, PM, PSX, PNW, PXD, PBI, PCL, PNC, RL, PPG, PPL, PX, PCP, PCLN, PFG, PG, PGR, PLD, PRU, PEG, PSA, PHM, PVH, QEP, PWR, QCOM, DGX, RRC, RTN, RHT, REGN, RF, RSG, RAI, RHI, ROK, COL, ROP, ROST, R, SWY, CRM, SNDK, SCG, SLB, SNI, STX, SEE, SRE, SHW, SIAL, SPG, SJM, SNA, SO, LUV, SWN, SE, STJ, SWK, SPLS, SBUX, HOT, STT, SRCL, SYK, STI, SYMC, SYY, TROW, TGT, TEL, TE, THC, TDC, TSO, TXN, TXT, HSY, TRV, TMO, TIF, TWX, TWC, TJX, TMK, TSS, TSCO, RIG, TRIP, FOXA, TSN, TYC, USB, UA, UNP, UNH, UPS, MLM, URI, UTX, UHS, UNM, URBN, VFC, VLO, VAR, VTR, VRSN, VZ, VRTX, VIAB, V, VNO, VMC, WMT, WAG, DIS, WM, WAT, WLP, WFC, WDC, WU, WY, WHR, WFM, WMB, WIN, WEC, WYN, WYNN, XEL, XRX, XLNX, XL, XYL, YHOO, YUM, ZMH, ZION, ZTS, Abbott Laboratories, AbbVie, ACE Limited, Accenture plc, Actavis plc, Adobe Systems Inc, ADT Corp, AES Corp, Aetna Inc, AFLAC Inc, Affiliated Managers Group Inc, Agilent Technologies Inc, AGL Resources Inc, Air Products & Chemicals Inc, Airgas Inc, Akamai Technologies Inc, Alcoa Inc, Alexion Pharmaceuticals, Allegheny Technologies Inc, Allegion, Allergan Inc, Alliance Data Systems, Allstate Corp, Altera Corp, Altria Group Inc, Amazoncom Inc, Ameren Corp, American Electric Power, American Express Co, American International Group, Inc, American Tower Corp A, Ameriprise Financial, AmerisourceBergen Corp, Ametek, Amgen Inc, Amphenol Corp A, Anadarko Petroleum Corp, Analog Devices, Inc, Aon plc, Apache Corporation, Apartment Investment & Mgmt, Apple Inc, Applied Materials Inc, Archer-Daniels-Midland Co, Assurant Inc, AT&T Inc, Autodesk Inc, Automatic Data Processing, AutoNation Inc, AutoZone Inc, Avago Technologies, AvalonBay Communities, Inc, Avery Dennison Corp, Avon Products, Baker Hughes Inc, Ball Corp, Bank of America Corp, The Bank of New York Mellon Corp, Bard (CR) Inc, Baxter International Inc, BB&T Corporation, Becton Dickinson, Bed Bath & Beyond, Bemis Company, Best Buy Co Inc, BIOGEN IDEC Inc, BlackRock, Block H&R, Boeing Company, BorgWarner, Boston Properties, Boston Scientific, Bristol-Myers Squibb, Broadcom Corporation, C H Robinson Worldwide, CA, Inc, Cablevision Systems Corp, Cabot Oil & Gas, Cameron International Corp, Campbell Soup, Capital One Financial, Cardinal Health Inc, Carefusion, Carmax Inc, Carnival Corp, Caterpillar Inc, CBRE Group, CBS Corp, Celgene Corp, CenterPoint Energy, CenturyLink Inc, Cerner, CF Industries Holdings Inc, Charles Schwab Corporation, Chesapeake Energy, Chevron Corp, Chipotle Mexican Grill, Chubb Corp, CIGNA Corp, Cimarex Energy, Cincinnati Financial, Cintas Corporation, Cisco Systems, Citigroup Inc, Citrix Systems, The Clorox Company, CME Group Inc, CMS Energy, Coach Inc, The Coca Cola Company, Coca-Cola Enterprises, Cognizant Technology Solutions, Colgate-Palmolive, Comcast Corp, Comerica Inc, Computer Sciences Corp, ConAgra Foods Inc, ConocoPhillips, CONSOL Energy Inc, Consolidated Edison, Constellation Brands, Corning Inc, Costco Co, Covidien plc, Crown Castle International Corp, CSX Corp, Cummins Inc, CVS Caremark Corp, D R Horton, Danaher Corp, Darden Restaurants, DaVita Inc, Deere & Co, Delphi Automotive, Delta Air Lines, Denbury Resources Inc, Dentsply International, Devon Energy Corp, Diamond Offshore Drilling, DirecTV, Discover Financial Services, Discovery Communications-A, Discovery Communications-C, Dollar General, Dollar Tree, Dominion Resources, Dover Corp, Dow Chemical, Dr Pepper Snapple Group, DTE Energy Co, Du Pont (EI), Duke Energy, Dun & Bradstreet, E-Trade, Eastman Chemical, Eaton Corporation, eBay Inc, Ecolab Inc, Edison Int'l, Edwards Lifesciences, Electronic Arts, EMC Corp, Emerson Electric, Ensco plc, Entergy Corp, EOG Resources, EQT Corporation, Equifax Inc, Equity Residential, Essex Property Trust Inc, Estee Lauder Cos, Exelon Corp, Expedia Inc, Expeditors Int'l, Express Scripts, Exxon Mobil Corp, F5 Networks, Facebook, Family Dollar Stores, Fastenal Co, FedEx Corporation, Fidelity National Information Services, Fifth Third Bancorp, First Solar Inc, FirstEnergy Corp, Fiserv Inc, FLIR Systems, Flowserve Corporation, Fluor Corp, FMC Corporation, FMC Technologies Inc, Ford Motor, Fossil, Inc, Franklin Resources, Freeport-McMoran Cp & Gld, Frontier Communications, GameStop Corp, Gannett Co, Gap (The), Garmin Ltd, General Dynamics, General Electric, General Growth Properties Inc, General Mills, General Motors, Genuine Parts, Genworth Financial Inc, Gilead Sciences, Goldman Sachs Group, Goodyear Tire & Rubber, Google Inc Class A, Google Inc Class C, Grainger (WW) Inc, Halliburton Co, Harley-Davidson, Harman Int'l Industries, Harris Corporation, Hartford Financial SvcGp, Hasbro Inc, HCP Inc, Health Care REIT, Inc, Helmerich & Payne, Hess Corporation, Hewlett-Packard, Home Depot, Honeywell Int'l Inc, Hormel Foods Corp, Hospira Inc, Host Hotels & Resorts, Hudson City Bancorp, Humana Inc, Huntington Bancshares, Illinois Tool Works, Ingersoll-Rand PLC, Integrys Energy Group Inc, Intel Corp, Intercontinental Exchange, International Bus Machines, International Paper, Interpublic Group, Intl Flavors & Fragrances, Intuit Inc, Intuitive Surgical Inc, Invesco Ltd, Iron Mountain Incorporated, Jacobs Engineering Group, Johnson & Johnson, Johnson Controls, Joy Global Inc, JPMorgan Chase & Co, Juniper Networks, Kansas City Southern, Kellogg Co, KeyCorp, Keurig Green Mountain, Kimberly-Clark, Kimco Realty, Kinder Morgan, KLA-Tencor Corp, Kohl's Corp, Kraft Foods Group, Kroger Co, L Brands Inc, L-3 Communications Holdings, Laboratory Corp of America Holding, Lam Research, Legg Mason, Leggett & Platt, Lennar Corp, Level 3 Communications, Leucadia National Corp, Lilly (Eli) & Co, Lincoln National, Linear Technology Corp, Lockheed Martin Corp, Loews Corp, Lorillard Inc, Lowe's Cos, LyondellBasell, M&T Bank Corp, Macerich, Macy's Inc, 3M Company, Mallinckrodt plc, Marathon Oil Corp, Marathon Petroleum, Marriott Int'l, Marsh & McLennan, Masco Corp, Mastercard Inc, Mattel Inc, McCormick & Co, McDonald's Corp, McGraw Hill Financial, McKesson Corp, Mead Johnson, MeadWestvaco Corporation, Medtronic Inc, Merck & Co, MetLife Inc, Microchip Technology, Micron Technology, Microsoft Corp, Mohawk Industries, Molson Coors Brewing Company, Mondelez International, Monsanto Co, Monster Beverage, Moody's Corp, Morgan Stanley, The Mosaic Company, Motorola Solutions Inc, Murphy Oil, Mylan Inc, Nabors Industries Ltd, NASDAQ OMX Group, National Oilwell Varco Inc, Navient Corp, NetApp, Netflix Inc, Newell Rubbermaid Co, Newfield Exploration Co, Newmont Mining Corp (Hldg Co), News Corporation, NextEra Energy, Nielsen Holdings, NIKE Inc, NiSource Inc, Noble Corp, Noble Energy Inc, Nordstrom, Norfolk Southern Corp, Northern Trust Corp, Northrop Grumman Corp, Northeast Utilities, NRG Energy, Nucor Corp, Nvidia Corporation, Michael Kors, O'Reilly Automotive, Occidental Petroleum, Omnicom Group, ONEOK, Oracle Corp, Owens-Illinois Inc, P G & E Corp, PACCAR Inc, Pall Corp, Parker-Hannifin, Patterson Companies, Paychex Inc, Pentair Ltd, People's United Bank, Pepco Holdings Inc, PepsiCo Inc, PerkinElmer, Perrigo, PetSmart, Inc, Pfizer Inc, Philip Morris International, Phillips 66, Pinnacle West Capital, Pioneer Natural Resources, Pitney-Bowes, Plum Creek Timber Co, PNC Financial Services, Polo Ralph Lauren Corp, PPG Industries, PPL Corp, Praxair Inc, Precision Castparts, Pricelinecom Inc, Principal Financial Group, Procter & Gamble, Progressive Corp, Prologis, Prudential Financial, Public Serv Enterprise Inc, Public Storage, Pulte Homes Inc, PVH Corp, QEP Resources, Quanta Services Inc, QUALCOMM Inc, Quest Diagnostics, Range Resources Corp, Raytheon Co, Red Hat Inc, Regeneron, Regions Financial Corp, Republic Services Inc, Reynolds American Inc, Robert Half International, Rockwell Automation Inc, Rockwell Collins, Roper Industries, Ross Stores, Ryder System, Safeway Inc, Salesforcecom, SanDisk Corporation, SCANA Corp, Schlumberger Ltd, Scripps Networks Interactive Inc, Seagate Technology, Sealed Air Corp(New), Sempra Energy, Sherwin-Williams, Sigma-Aldrich, Simon Property Group Inc, Smucker (JM), Snap-On Inc, Southern Co, Southwest Airlines, Southwestern Energy, Spectra Energy Corp, St Jude Medical, Stanley Black & Decker, Staples Inc, Starbucks Corp, Starwood Hotels & Resorts, State Street Corp, Stericycle Inc, Stryker Corp, SunTrust Banks, Symantec Corp, Sysco Corp, T Rowe Price Group, Target Corp, TE Connectivity Ltd, TECO Energy, Tenet Healthcare Corp, Teradata Corp, Tesoro Petroleum Co, Texas Instruments, Textron Inc, The Hershey Company, The Travelers Companies Inc, Thermo Fisher Scientific, Tiffany & Co, Time Warner Inc, Time Warner Cable Inc, TJX Companies Inc, Torchmark Corp, Total System Services, Tractor Supply Company, Transocean, TripAdvisor, Twenty-First Century Fox, Tyson Foods, Tyco International, US Bancorp, Under Armour, Union Pacific, United Health Group Inc, United Parcel Service, Martin Marietta Materials, United Rentals, Inc, United Technologies, Universal Health Services, Inc, Unum Group, Urban Outfitters, VF Corp, Valero Energy, Varian Medical Systems, Ventas Inc, Verisign Inc, Verizon Communications, Vertex Pharmaceuticals Inc, Viacom Inc, Visa Inc, Vornado Realty Trust, Vulcan Materials, Wal-Mart Stores, Walgreen Co, The Walt Disney Company, Waste Management Inc, Waters Corporation, WellPoint Inc, Wells Fargo, Western Digital, Western Union Co, Weyerhaeuser Corp, Whirlpool Corp, Whole Foods Market, Williams Cos, Windstream Communications, Wisconsin Energy Corporation, Wyndham Worldwide, Wynn Resorts Ltd, Xcel Energy Inc, Xerox Corp, Xilinx Inc, XL Capital, Xylem Inc, Yahoo Inc, Yum! Brands Inc, Zimmer Holdings, Zions Bancorp, Zoetis\""
      ]
     },
     "execution_count": 35,
     "metadata": {},
     "output_type": "execute_result"
    }
   ],
   "source": [
    "tmp"
   ]
  },
  {
   "cell_type": "code",
   "execution_count": null,
   "metadata": {
    "collapsed": true
   },
   "outputs": [],
   "source": []
  }
 ],
 "metadata": {
  "kernelspec": {
   "display_name": "Python 2",
   "language": "python",
   "name": "python2"
  },
  "language_info": {
   "codemirror_mode": {
    "name": "ipython",
    "version": 2
   },
   "file_extension": ".py",
   "mimetype": "text/x-python",
   "name": "python",
   "nbconvert_exporter": "python",
   "pygments_lexer": "ipython2",
   "version": "2.7.9"
  }
 },
 "nbformat": 4,
 "nbformat_minor": 0
}
